{
 "cells": [
  {
   "cell_type": "code",
   "execution_count": 1,
   "metadata": {},
   "outputs": [
    {
     "name": "stdout",
     "output_type": "stream",
     "text": [
      "{'成功': 1, '失败': 0, '总计': 1}\n"
     ]
    }
   ],
   "source": [
    "from data_loader import *\n",
    "\n",
    "class MyPipeline(Pipeline):\n",
    "    def on_case_begin(self, i, total, case: TestCase):\n",
    "        return super().on_case_begin(i, total, case)\n",
    "    \n",
    "    def on_case_end(self, i, total, result: TestResult):\n",
    "        return super().on_case_end(i, total, result)\n",
    "\n",
    "    def process_case(self, case: TestCase) -> TestCase:\n",
    "        return super().process_case(case)\n",
    "\n",
    "    def run_case(self, case: TestCase) -> TestResult:\n",
    "        # print(case)\n",
    "        return TestResult(case.name, TestStatus.Success)\n",
    "\n",
    "pipe = MyPipeline('../自定义格式示例')\n",
    "\n",
    "# pipe.run()\n",
    "report = pipe.run_multithread(4)\n",
    "print(report.summary())"
   ]
  }
 ],
 "metadata": {
  "kernelspec": {
   "display_name": "spider2",
   "language": "python",
   "name": "python3"
  },
  "language_info": {
   "codemirror_mode": {
    "name": "ipython",
    "version": 3
   },
   "file_extension": ".py",
   "mimetype": "text/x-python",
   "name": "python",
   "nbconvert_exporter": "python",
   "pygments_lexer": "ipython3",
   "version": "3.8.16"
  },
  "orig_nbformat": 4
 },
 "nbformat": 4,
 "nbformat_minor": 2
}
